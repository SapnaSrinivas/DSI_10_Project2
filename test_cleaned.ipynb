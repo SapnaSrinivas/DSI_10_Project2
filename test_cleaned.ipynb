{
 "cells": [
  {
   "cell_type": "markdown",
   "metadata": {},
   "source": [
    "<img src=\"http://imgur.com/1ZcRyrc.png\" style=\"float: left; margin: 15px; height: 80px\">\n",
    "\n",
    "# Ames Housing Data\n",
    "\n",
    "_Author: Sapna Srinivas_\n"
   ]
  },
  {
   "cell_type": "markdown",
   "metadata": {},
   "source": [
    "## Importing libaries\n",
    "---\n",
    "\n",
    "We'll need the following libraries for today's lesson:\n",
    "\n",
    "1. `pandas`\n",
    "2. `numpy`\n",
    "3. `seaborn`\n",
    "4. `matplotlib.pyplot`\n",
    "4. `train_test_split` and `cross_val_score` from `sklearn`'s `model_selection` module\n",
    "5. `LinearRegression`, `LassoCV` and `RidgeCV` from `sklearn`'s `linear_model` module\n",
    "6. `StandardScaler` from `sklearn`'s `preprocessing` module\n",
    "7. `r2_score` from `sklearn`'s `metrics` module "
   ]
  },
  {
   "cell_type": "code",
   "execution_count": 3,
   "metadata": {},
   "outputs": [],
   "source": [
    "import pandas as pd\n",
    "import numpy as np\n",
    "import seaborn as sns\n",
    "import matplotlib.pyplot as plt\n",
    "from sklearn.linear_model import LinearRegression, LassoCV, RidgeCV\n",
    "from sklearn.preprocessing import PolynomialFeatures, StandardScaler\n",
    "from sklearn.model_selection import train_test_split, cross_val_score, cross_val_predict\n",
    "from sklearn.metrics import r2_score\n",
    "\n",
    "%matplotlib inline"
   ]
  },
  {
   "cell_type": "markdown",
   "metadata": {},
   "source": [
    "## Load the Data \n",
    "\n",
    "The test dataset has all of those columns except for the target that you are trying to predict in your Regression model"
   ]
  },
  {
   "cell_type": "code",
   "execution_count": 4,
   "metadata": {},
   "outputs": [],
   "source": [
    "test = pd.read_csv('./datasets/test.csv')"
   ]
  },
  {
   "cell_type": "markdown",
   "metadata": {},
   "source": [
    "## To display all the rows and columns of a dataframe"
   ]
  },
  {
   "cell_type": "code",
   "execution_count": 5,
   "metadata": {},
   "outputs": [],
   "source": [
    "pd.set_option('display.max_columns', None)\n",
    "pd.set_option('display.max_rows', None)"
   ]
  },
  {
   "cell_type": "code",
   "execution_count": 6,
   "metadata": {
    "scrolled": false
   },
   "outputs": [
    {
     "data": {
      "text/html": [
       "<div>\n",
       "<style scoped>\n",
       "    .dataframe tbody tr th:only-of-type {\n",
       "        vertical-align: middle;\n",
       "    }\n",
       "\n",
       "    .dataframe tbody tr th {\n",
       "        vertical-align: top;\n",
       "    }\n",
       "\n",
       "    .dataframe thead th {\n",
       "        text-align: right;\n",
       "    }\n",
       "</style>\n",
       "<table border=\"1\" class=\"dataframe\">\n",
       "  <thead>\n",
       "    <tr style=\"text-align: right;\">\n",
       "      <th></th>\n",
       "      <th>Id</th>\n",
       "      <th>PID</th>\n",
       "      <th>MS SubClass</th>\n",
       "      <th>MS Zoning</th>\n",
       "      <th>Lot Frontage</th>\n",
       "      <th>Lot Area</th>\n",
       "      <th>Street</th>\n",
       "      <th>Alley</th>\n",
       "      <th>Lot Shape</th>\n",
       "      <th>Land Contour</th>\n",
       "      <th>Utilities</th>\n",
       "      <th>Lot Config</th>\n",
       "      <th>Land Slope</th>\n",
       "      <th>Neighborhood</th>\n",
       "      <th>Condition 1</th>\n",
       "      <th>Condition 2</th>\n",
       "      <th>Bldg Type</th>\n",
       "      <th>House Style</th>\n",
       "      <th>Overall Qual</th>\n",
       "      <th>Overall Cond</th>\n",
       "      <th>Year Built</th>\n",
       "      <th>Year Remod/Add</th>\n",
       "      <th>Roof Style</th>\n",
       "      <th>Roof Matl</th>\n",
       "      <th>Exterior 1st</th>\n",
       "      <th>Exterior 2nd</th>\n",
       "      <th>Mas Vnr Type</th>\n",
       "      <th>Mas Vnr Area</th>\n",
       "      <th>Exter Qual</th>\n",
       "      <th>Exter Cond</th>\n",
       "      <th>Foundation</th>\n",
       "      <th>Bsmt Qual</th>\n",
       "      <th>Bsmt Cond</th>\n",
       "      <th>Bsmt Exposure</th>\n",
       "      <th>BsmtFin Type 1</th>\n",
       "      <th>BsmtFin SF 1</th>\n",
       "      <th>BsmtFin Type 2</th>\n",
       "      <th>BsmtFin SF 2</th>\n",
       "      <th>Bsmt Unf SF</th>\n",
       "      <th>Total Bsmt SF</th>\n",
       "      <th>Heating</th>\n",
       "      <th>Heating QC</th>\n",
       "      <th>Central Air</th>\n",
       "      <th>Electrical</th>\n",
       "      <th>1st Flr SF</th>\n",
       "      <th>2nd Flr SF</th>\n",
       "      <th>Low Qual Fin SF</th>\n",
       "      <th>Gr Liv Area</th>\n",
       "      <th>Bsmt Full Bath</th>\n",
       "      <th>Bsmt Half Bath</th>\n",
       "      <th>Full Bath</th>\n",
       "      <th>Half Bath</th>\n",
       "      <th>Bedroom AbvGr</th>\n",
       "      <th>Kitchen AbvGr</th>\n",
       "      <th>Kitchen Qual</th>\n",
       "      <th>TotRms AbvGrd</th>\n",
       "      <th>Functional</th>\n",
       "      <th>Fireplaces</th>\n",
       "      <th>Fireplace Qu</th>\n",
       "      <th>Garage Type</th>\n",
       "      <th>Garage Yr Blt</th>\n",
       "      <th>Garage Finish</th>\n",
       "      <th>Garage Cars</th>\n",
       "      <th>Garage Area</th>\n",
       "      <th>Garage Qual</th>\n",
       "      <th>Garage Cond</th>\n",
       "      <th>Paved Drive</th>\n",
       "      <th>Wood Deck SF</th>\n",
       "      <th>Open Porch SF</th>\n",
       "      <th>Enclosed Porch</th>\n",
       "      <th>3Ssn Porch</th>\n",
       "      <th>Screen Porch</th>\n",
       "      <th>Pool Area</th>\n",
       "      <th>Pool QC</th>\n",
       "      <th>Fence</th>\n",
       "      <th>Misc Feature</th>\n",
       "      <th>Misc Val</th>\n",
       "      <th>Mo Sold</th>\n",
       "      <th>Yr Sold</th>\n",
       "      <th>Sale Type</th>\n",
       "    </tr>\n",
       "  </thead>\n",
       "  <tbody>\n",
       "    <tr>\n",
       "      <th>0</th>\n",
       "      <td>2658</td>\n",
       "      <td>902301120</td>\n",
       "      <td>190</td>\n",
       "      <td>RM</td>\n",
       "      <td>69.0</td>\n",
       "      <td>9142</td>\n",
       "      <td>Pave</td>\n",
       "      <td>Grvl</td>\n",
       "      <td>Reg</td>\n",
       "      <td>Lvl</td>\n",
       "      <td>AllPub</td>\n",
       "      <td>Inside</td>\n",
       "      <td>Gtl</td>\n",
       "      <td>OldTown</td>\n",
       "      <td>Norm</td>\n",
       "      <td>Norm</td>\n",
       "      <td>2fmCon</td>\n",
       "      <td>2Story</td>\n",
       "      <td>6</td>\n",
       "      <td>8</td>\n",
       "      <td>1910</td>\n",
       "      <td>1950</td>\n",
       "      <td>Gable</td>\n",
       "      <td>CompShg</td>\n",
       "      <td>AsbShng</td>\n",
       "      <td>AsbShng</td>\n",
       "      <td>None</td>\n",
       "      <td>0.0</td>\n",
       "      <td>TA</td>\n",
       "      <td>Fa</td>\n",
       "      <td>Stone</td>\n",
       "      <td>Fa</td>\n",
       "      <td>TA</td>\n",
       "      <td>No</td>\n",
       "      <td>Unf</td>\n",
       "      <td>0</td>\n",
       "      <td>Unf</td>\n",
       "      <td>0</td>\n",
       "      <td>1020</td>\n",
       "      <td>1020</td>\n",
       "      <td>GasA</td>\n",
       "      <td>Gd</td>\n",
       "      <td>N</td>\n",
       "      <td>FuseP</td>\n",
       "      <td>908</td>\n",
       "      <td>1020</td>\n",
       "      <td>0</td>\n",
       "      <td>1928</td>\n",
       "      <td>0</td>\n",
       "      <td>0</td>\n",
       "      <td>2</td>\n",
       "      <td>0</td>\n",
       "      <td>4</td>\n",
       "      <td>2</td>\n",
       "      <td>Fa</td>\n",
       "      <td>9</td>\n",
       "      <td>Typ</td>\n",
       "      <td>0</td>\n",
       "      <td>NaN</td>\n",
       "      <td>Detchd</td>\n",
       "      <td>1910.0</td>\n",
       "      <td>Unf</td>\n",
       "      <td>1</td>\n",
       "      <td>440</td>\n",
       "      <td>Po</td>\n",
       "      <td>Po</td>\n",
       "      <td>Y</td>\n",
       "      <td>0</td>\n",
       "      <td>60</td>\n",
       "      <td>112</td>\n",
       "      <td>0</td>\n",
       "      <td>0</td>\n",
       "      <td>0</td>\n",
       "      <td>NaN</td>\n",
       "      <td>NaN</td>\n",
       "      <td>NaN</td>\n",
       "      <td>0</td>\n",
       "      <td>4</td>\n",
       "      <td>2006</td>\n",
       "      <td>WD</td>\n",
       "    </tr>\n",
       "    <tr>\n",
       "      <th>1</th>\n",
       "      <td>2718</td>\n",
       "      <td>905108090</td>\n",
       "      <td>90</td>\n",
       "      <td>RL</td>\n",
       "      <td>NaN</td>\n",
       "      <td>9662</td>\n",
       "      <td>Pave</td>\n",
       "      <td>NaN</td>\n",
       "      <td>IR1</td>\n",
       "      <td>Lvl</td>\n",
       "      <td>AllPub</td>\n",
       "      <td>Inside</td>\n",
       "      <td>Gtl</td>\n",
       "      <td>Sawyer</td>\n",
       "      <td>Norm</td>\n",
       "      <td>Norm</td>\n",
       "      <td>Duplex</td>\n",
       "      <td>1Story</td>\n",
       "      <td>5</td>\n",
       "      <td>4</td>\n",
       "      <td>1977</td>\n",
       "      <td>1977</td>\n",
       "      <td>Gable</td>\n",
       "      <td>CompShg</td>\n",
       "      <td>Plywood</td>\n",
       "      <td>Plywood</td>\n",
       "      <td>None</td>\n",
       "      <td>0.0</td>\n",
       "      <td>TA</td>\n",
       "      <td>TA</td>\n",
       "      <td>CBlock</td>\n",
       "      <td>Gd</td>\n",
       "      <td>TA</td>\n",
       "      <td>No</td>\n",
       "      <td>Unf</td>\n",
       "      <td>0</td>\n",
       "      <td>Unf</td>\n",
       "      <td>0</td>\n",
       "      <td>1967</td>\n",
       "      <td>1967</td>\n",
       "      <td>GasA</td>\n",
       "      <td>TA</td>\n",
       "      <td>Y</td>\n",
       "      <td>SBrkr</td>\n",
       "      <td>1967</td>\n",
       "      <td>0</td>\n",
       "      <td>0</td>\n",
       "      <td>1967</td>\n",
       "      <td>0</td>\n",
       "      <td>0</td>\n",
       "      <td>2</td>\n",
       "      <td>0</td>\n",
       "      <td>6</td>\n",
       "      <td>2</td>\n",
       "      <td>TA</td>\n",
       "      <td>10</td>\n",
       "      <td>Typ</td>\n",
       "      <td>0</td>\n",
       "      <td>NaN</td>\n",
       "      <td>Attchd</td>\n",
       "      <td>1977.0</td>\n",
       "      <td>Fin</td>\n",
       "      <td>2</td>\n",
       "      <td>580</td>\n",
       "      <td>TA</td>\n",
       "      <td>TA</td>\n",
       "      <td>Y</td>\n",
       "      <td>170</td>\n",
       "      <td>0</td>\n",
       "      <td>0</td>\n",
       "      <td>0</td>\n",
       "      <td>0</td>\n",
       "      <td>0</td>\n",
       "      <td>NaN</td>\n",
       "      <td>NaN</td>\n",
       "      <td>NaN</td>\n",
       "      <td>0</td>\n",
       "      <td>8</td>\n",
       "      <td>2006</td>\n",
       "      <td>WD</td>\n",
       "    </tr>\n",
       "    <tr>\n",
       "      <th>2</th>\n",
       "      <td>2414</td>\n",
       "      <td>528218130</td>\n",
       "      <td>60</td>\n",
       "      <td>RL</td>\n",
       "      <td>58.0</td>\n",
       "      <td>17104</td>\n",
       "      <td>Pave</td>\n",
       "      <td>NaN</td>\n",
       "      <td>IR1</td>\n",
       "      <td>Lvl</td>\n",
       "      <td>AllPub</td>\n",
       "      <td>Inside</td>\n",
       "      <td>Gtl</td>\n",
       "      <td>Gilbert</td>\n",
       "      <td>Norm</td>\n",
       "      <td>Norm</td>\n",
       "      <td>1Fam</td>\n",
       "      <td>2Story</td>\n",
       "      <td>7</td>\n",
       "      <td>5</td>\n",
       "      <td>2006</td>\n",
       "      <td>2006</td>\n",
       "      <td>Gable</td>\n",
       "      <td>CompShg</td>\n",
       "      <td>VinylSd</td>\n",
       "      <td>VinylSd</td>\n",
       "      <td>None</td>\n",
       "      <td>0.0</td>\n",
       "      <td>Gd</td>\n",
       "      <td>TA</td>\n",
       "      <td>PConc</td>\n",
       "      <td>Gd</td>\n",
       "      <td>Gd</td>\n",
       "      <td>Av</td>\n",
       "      <td>GLQ</td>\n",
       "      <td>554</td>\n",
       "      <td>Unf</td>\n",
       "      <td>0</td>\n",
       "      <td>100</td>\n",
       "      <td>654</td>\n",
       "      <td>GasA</td>\n",
       "      <td>Ex</td>\n",
       "      <td>Y</td>\n",
       "      <td>SBrkr</td>\n",
       "      <td>664</td>\n",
       "      <td>832</td>\n",
       "      <td>0</td>\n",
       "      <td>1496</td>\n",
       "      <td>1</td>\n",
       "      <td>0</td>\n",
       "      <td>2</td>\n",
       "      <td>1</td>\n",
       "      <td>3</td>\n",
       "      <td>1</td>\n",
       "      <td>Gd</td>\n",
       "      <td>7</td>\n",
       "      <td>Typ</td>\n",
       "      <td>1</td>\n",
       "      <td>Gd</td>\n",
       "      <td>Attchd</td>\n",
       "      <td>2006.0</td>\n",
       "      <td>RFn</td>\n",
       "      <td>2</td>\n",
       "      <td>426</td>\n",
       "      <td>TA</td>\n",
       "      <td>TA</td>\n",
       "      <td>Y</td>\n",
       "      <td>100</td>\n",
       "      <td>24</td>\n",
       "      <td>0</td>\n",
       "      <td>0</td>\n",
       "      <td>0</td>\n",
       "      <td>0</td>\n",
       "      <td>NaN</td>\n",
       "      <td>NaN</td>\n",
       "      <td>NaN</td>\n",
       "      <td>0</td>\n",
       "      <td>9</td>\n",
       "      <td>2006</td>\n",
       "      <td>New</td>\n",
       "    </tr>\n",
       "    <tr>\n",
       "      <th>3</th>\n",
       "      <td>1989</td>\n",
       "      <td>902207150</td>\n",
       "      <td>30</td>\n",
       "      <td>RM</td>\n",
       "      <td>60.0</td>\n",
       "      <td>8520</td>\n",
       "      <td>Pave</td>\n",
       "      <td>NaN</td>\n",
       "      <td>Reg</td>\n",
       "      <td>Lvl</td>\n",
       "      <td>AllPub</td>\n",
       "      <td>Inside</td>\n",
       "      <td>Gtl</td>\n",
       "      <td>OldTown</td>\n",
       "      <td>Norm</td>\n",
       "      <td>Norm</td>\n",
       "      <td>1Fam</td>\n",
       "      <td>1Story</td>\n",
       "      <td>5</td>\n",
       "      <td>6</td>\n",
       "      <td>1923</td>\n",
       "      <td>2006</td>\n",
       "      <td>Gable</td>\n",
       "      <td>CompShg</td>\n",
       "      <td>Wd Sdng</td>\n",
       "      <td>Wd Sdng</td>\n",
       "      <td>None</td>\n",
       "      <td>0.0</td>\n",
       "      <td>Gd</td>\n",
       "      <td>TA</td>\n",
       "      <td>CBlock</td>\n",
       "      <td>TA</td>\n",
       "      <td>TA</td>\n",
       "      <td>No</td>\n",
       "      <td>Unf</td>\n",
       "      <td>0</td>\n",
       "      <td>Unf</td>\n",
       "      <td>0</td>\n",
       "      <td>968</td>\n",
       "      <td>968</td>\n",
       "      <td>GasA</td>\n",
       "      <td>TA</td>\n",
       "      <td>Y</td>\n",
       "      <td>SBrkr</td>\n",
       "      <td>968</td>\n",
       "      <td>0</td>\n",
       "      <td>0</td>\n",
       "      <td>968</td>\n",
       "      <td>0</td>\n",
       "      <td>0</td>\n",
       "      <td>1</td>\n",
       "      <td>0</td>\n",
       "      <td>2</td>\n",
       "      <td>1</td>\n",
       "      <td>TA</td>\n",
       "      <td>5</td>\n",
       "      <td>Typ</td>\n",
       "      <td>0</td>\n",
       "      <td>NaN</td>\n",
       "      <td>Detchd</td>\n",
       "      <td>1935.0</td>\n",
       "      <td>Unf</td>\n",
       "      <td>2</td>\n",
       "      <td>480</td>\n",
       "      <td>Fa</td>\n",
       "      <td>TA</td>\n",
       "      <td>N</td>\n",
       "      <td>0</td>\n",
       "      <td>0</td>\n",
       "      <td>184</td>\n",
       "      <td>0</td>\n",
       "      <td>0</td>\n",
       "      <td>0</td>\n",
       "      <td>NaN</td>\n",
       "      <td>NaN</td>\n",
       "      <td>NaN</td>\n",
       "      <td>0</td>\n",
       "      <td>7</td>\n",
       "      <td>2007</td>\n",
       "      <td>WD</td>\n",
       "    </tr>\n",
       "    <tr>\n",
       "      <th>4</th>\n",
       "      <td>625</td>\n",
       "      <td>535105100</td>\n",
       "      <td>20</td>\n",
       "      <td>RL</td>\n",
       "      <td>NaN</td>\n",
       "      <td>9500</td>\n",
       "      <td>Pave</td>\n",
       "      <td>NaN</td>\n",
       "      <td>IR1</td>\n",
       "      <td>Lvl</td>\n",
       "      <td>AllPub</td>\n",
       "      <td>Inside</td>\n",
       "      <td>Gtl</td>\n",
       "      <td>NAmes</td>\n",
       "      <td>Norm</td>\n",
       "      <td>Norm</td>\n",
       "      <td>1Fam</td>\n",
       "      <td>1Story</td>\n",
       "      <td>6</td>\n",
       "      <td>5</td>\n",
       "      <td>1963</td>\n",
       "      <td>1963</td>\n",
       "      <td>Gable</td>\n",
       "      <td>CompShg</td>\n",
       "      <td>Plywood</td>\n",
       "      <td>Plywood</td>\n",
       "      <td>BrkFace</td>\n",
       "      <td>247.0</td>\n",
       "      <td>TA</td>\n",
       "      <td>TA</td>\n",
       "      <td>CBlock</td>\n",
       "      <td>Gd</td>\n",
       "      <td>TA</td>\n",
       "      <td>No</td>\n",
       "      <td>BLQ</td>\n",
       "      <td>609</td>\n",
       "      <td>Unf</td>\n",
       "      <td>0</td>\n",
       "      <td>785</td>\n",
       "      <td>1394</td>\n",
       "      <td>GasA</td>\n",
       "      <td>Gd</td>\n",
       "      <td>Y</td>\n",
       "      <td>SBrkr</td>\n",
       "      <td>1394</td>\n",
       "      <td>0</td>\n",
       "      <td>0</td>\n",
       "      <td>1394</td>\n",
       "      <td>1</td>\n",
       "      <td>0</td>\n",
       "      <td>1</td>\n",
       "      <td>1</td>\n",
       "      <td>3</td>\n",
       "      <td>1</td>\n",
       "      <td>TA</td>\n",
       "      <td>6</td>\n",
       "      <td>Typ</td>\n",
       "      <td>2</td>\n",
       "      <td>Gd</td>\n",
       "      <td>Attchd</td>\n",
       "      <td>1963.0</td>\n",
       "      <td>RFn</td>\n",
       "      <td>2</td>\n",
       "      <td>514</td>\n",
       "      <td>TA</td>\n",
       "      <td>TA</td>\n",
       "      <td>Y</td>\n",
       "      <td>0</td>\n",
       "      <td>76</td>\n",
       "      <td>0</td>\n",
       "      <td>0</td>\n",
       "      <td>185</td>\n",
       "      <td>0</td>\n",
       "      <td>NaN</td>\n",
       "      <td>NaN</td>\n",
       "      <td>NaN</td>\n",
       "      <td>0</td>\n",
       "      <td>7</td>\n",
       "      <td>2009</td>\n",
       "      <td>WD</td>\n",
       "    </tr>\n",
       "  </tbody>\n",
       "</table>\n",
       "</div>"
      ],
      "text/plain": [
       "     Id        PID  MS SubClass MS Zoning  Lot Frontage  Lot Area Street  \\\n",
       "0  2658  902301120          190        RM          69.0      9142   Pave   \n",
       "1  2718  905108090           90        RL           NaN      9662   Pave   \n",
       "2  2414  528218130           60        RL          58.0     17104   Pave   \n",
       "3  1989  902207150           30        RM          60.0      8520   Pave   \n",
       "4   625  535105100           20        RL           NaN      9500   Pave   \n",
       "\n",
       "  Alley Lot Shape Land Contour Utilities Lot Config Land Slope Neighborhood  \\\n",
       "0  Grvl       Reg          Lvl    AllPub     Inside        Gtl      OldTown   \n",
       "1   NaN       IR1          Lvl    AllPub     Inside        Gtl       Sawyer   \n",
       "2   NaN       IR1          Lvl    AllPub     Inside        Gtl      Gilbert   \n",
       "3   NaN       Reg          Lvl    AllPub     Inside        Gtl      OldTown   \n",
       "4   NaN       IR1          Lvl    AllPub     Inside        Gtl        NAmes   \n",
       "\n",
       "  Condition 1 Condition 2 Bldg Type House Style  Overall Qual  Overall Cond  \\\n",
       "0        Norm        Norm    2fmCon      2Story             6             8   \n",
       "1        Norm        Norm    Duplex      1Story             5             4   \n",
       "2        Norm        Norm      1Fam      2Story             7             5   \n",
       "3        Norm        Norm      1Fam      1Story             5             6   \n",
       "4        Norm        Norm      1Fam      1Story             6             5   \n",
       "\n",
       "   Year Built  Year Remod/Add Roof Style Roof Matl Exterior 1st Exterior 2nd  \\\n",
       "0        1910            1950      Gable   CompShg      AsbShng      AsbShng   \n",
       "1        1977            1977      Gable   CompShg      Plywood      Plywood   \n",
       "2        2006            2006      Gable   CompShg      VinylSd      VinylSd   \n",
       "3        1923            2006      Gable   CompShg      Wd Sdng      Wd Sdng   \n",
       "4        1963            1963      Gable   CompShg      Plywood      Plywood   \n",
       "\n",
       "  Mas Vnr Type  Mas Vnr Area Exter Qual Exter Cond Foundation Bsmt Qual  \\\n",
       "0         None           0.0         TA         Fa      Stone        Fa   \n",
       "1         None           0.0         TA         TA     CBlock        Gd   \n",
       "2         None           0.0         Gd         TA      PConc        Gd   \n",
       "3         None           0.0         Gd         TA     CBlock        TA   \n",
       "4      BrkFace         247.0         TA         TA     CBlock        Gd   \n",
       "\n",
       "  Bsmt Cond Bsmt Exposure BsmtFin Type 1  BsmtFin SF 1 BsmtFin Type 2  \\\n",
       "0        TA            No            Unf             0            Unf   \n",
       "1        TA            No            Unf             0            Unf   \n",
       "2        Gd            Av            GLQ           554            Unf   \n",
       "3        TA            No            Unf             0            Unf   \n",
       "4        TA            No            BLQ           609            Unf   \n",
       "\n",
       "   BsmtFin SF 2  Bsmt Unf SF  Total Bsmt SF Heating Heating QC Central Air  \\\n",
       "0             0         1020           1020    GasA         Gd           N   \n",
       "1             0         1967           1967    GasA         TA           Y   \n",
       "2             0          100            654    GasA         Ex           Y   \n",
       "3             0          968            968    GasA         TA           Y   \n",
       "4             0          785           1394    GasA         Gd           Y   \n",
       "\n",
       "  Electrical  1st Flr SF  2nd Flr SF  Low Qual Fin SF  Gr Liv Area  \\\n",
       "0      FuseP         908        1020                0         1928   \n",
       "1      SBrkr        1967           0                0         1967   \n",
       "2      SBrkr         664         832                0         1496   \n",
       "3      SBrkr         968           0                0          968   \n",
       "4      SBrkr        1394           0                0         1394   \n",
       "\n",
       "   Bsmt Full Bath  Bsmt Half Bath  Full Bath  Half Bath  Bedroom AbvGr  \\\n",
       "0               0               0          2          0              4   \n",
       "1               0               0          2          0              6   \n",
       "2               1               0          2          1              3   \n",
       "3               0               0          1          0              2   \n",
       "4               1               0          1          1              3   \n",
       "\n",
       "   Kitchen AbvGr Kitchen Qual  TotRms AbvGrd Functional  Fireplaces  \\\n",
       "0              2           Fa              9        Typ           0   \n",
       "1              2           TA             10        Typ           0   \n",
       "2              1           Gd              7        Typ           1   \n",
       "3              1           TA              5        Typ           0   \n",
       "4              1           TA              6        Typ           2   \n",
       "\n",
       "  Fireplace Qu Garage Type  Garage Yr Blt Garage Finish  Garage Cars  \\\n",
       "0          NaN      Detchd         1910.0           Unf            1   \n",
       "1          NaN      Attchd         1977.0           Fin            2   \n",
       "2           Gd      Attchd         2006.0           RFn            2   \n",
       "3          NaN      Detchd         1935.0           Unf            2   \n",
       "4           Gd      Attchd         1963.0           RFn            2   \n",
       "\n",
       "   Garage Area Garage Qual Garage Cond Paved Drive  Wood Deck SF  \\\n",
       "0          440          Po          Po           Y             0   \n",
       "1          580          TA          TA           Y           170   \n",
       "2          426          TA          TA           Y           100   \n",
       "3          480          Fa          TA           N             0   \n",
       "4          514          TA          TA           Y             0   \n",
       "\n",
       "   Open Porch SF  Enclosed Porch  3Ssn Porch  Screen Porch  Pool Area Pool QC  \\\n",
       "0             60             112           0             0          0     NaN   \n",
       "1              0               0           0             0          0     NaN   \n",
       "2             24               0           0             0          0     NaN   \n",
       "3              0             184           0             0          0     NaN   \n",
       "4             76               0           0           185          0     NaN   \n",
       "\n",
       "  Fence Misc Feature  Misc Val  Mo Sold  Yr Sold Sale Type  \n",
       "0   NaN          NaN         0        4     2006       WD   \n",
       "1   NaN          NaN         0        8     2006       WD   \n",
       "2   NaN          NaN         0        9     2006       New  \n",
       "3   NaN          NaN         0        7     2007       WD   \n",
       "4   NaN          NaN         0        7     2009       WD   "
      ]
     },
     "execution_count": 6,
     "metadata": {},
     "output_type": "execute_result"
    }
   ],
   "source": [
    "test.head()\n"
   ]
  },
  {
   "cell_type": "code",
   "execution_count": 7,
   "metadata": {},
   "outputs": [
    {
     "data": {
      "text/plain": [
       "Grvl    35\n",
       "Pave    23\n",
       "Name: Alley, dtype: int64"
      ]
     },
     "execution_count": 7,
     "metadata": {},
     "output_type": "execute_result"
    }
   ],
   "source": [
    "test['Alley'].value_counts()"
   ]
  },
  {
   "cell_type": "markdown",
   "metadata": {},
   "source": [
    "## Data cleaning: Initial check\n",
    "---\n",
    "\n",
    "Check the following in the cells below:\n",
    "1. Do we have any null values?\n",
    "2. Are any numerical columns being read in as `object`?"
   ]
  },
  {
   "cell_type": "code",
   "execution_count": 8,
   "metadata": {},
   "outputs": [
    {
     "data": {
      "text/plain": [
       "(879, 80)"
      ]
     },
     "execution_count": 8,
     "metadata": {},
     "output_type": "execute_result"
    }
   ],
   "source": [
    "test.shape"
   ]
  },
  {
   "cell_type": "code",
   "execution_count": 9,
   "metadata": {
    "scrolled": true
   },
   "outputs": [
    {
     "data": {
      "text/plain": [
       "Id                   0\n",
       "PID                  0\n",
       "MS SubClass          0\n",
       "MS Zoning            0\n",
       "Lot Frontage       160\n",
       "Lot Area             0\n",
       "Street               0\n",
       "Alley              821\n",
       "Lot Shape            0\n",
       "Land Contour         0\n",
       "Utilities            0\n",
       "Lot Config           0\n",
       "Land Slope           0\n",
       "Neighborhood         0\n",
       "Condition 1          0\n",
       "Condition 2          0\n",
       "Bldg Type            0\n",
       "House Style          0\n",
       "Overall Qual         0\n",
       "Overall Cond         0\n",
       "Year Built           0\n",
       "Year Remod/Add       0\n",
       "Roof Style           0\n",
       "Roof Matl            0\n",
       "Exterior 1st         0\n",
       "Exterior 2nd         0\n",
       "Mas Vnr Type         1\n",
       "Mas Vnr Area         1\n",
       "Exter Qual           0\n",
       "Exter Cond           0\n",
       "Foundation           0\n",
       "Bsmt Qual           25\n",
       "Bsmt Cond           25\n",
       "Bsmt Exposure       25\n",
       "BsmtFin Type 1      25\n",
       "BsmtFin SF 1         0\n",
       "BsmtFin Type 2      25\n",
       "BsmtFin SF 2         0\n",
       "Bsmt Unf SF          0\n",
       "Total Bsmt SF        0\n",
       "Heating              0\n",
       "Heating QC           0\n",
       "Central Air          0\n",
       "Electrical           1\n",
       "1st Flr SF           0\n",
       "2nd Flr SF           0\n",
       "Low Qual Fin SF      0\n",
       "Gr Liv Area          0\n",
       "Bsmt Full Bath       0\n",
       "Bsmt Half Bath       0\n",
       "Full Bath            0\n",
       "Half Bath            0\n",
       "Bedroom AbvGr        0\n",
       "Kitchen AbvGr        0\n",
       "Kitchen Qual         0\n",
       "TotRms AbvGrd        0\n",
       "Functional           0\n",
       "Fireplaces           0\n",
       "Fireplace Qu       422\n",
       "Garage Type         44\n",
       "Garage Yr Blt       45\n",
       "Garage Finish       45\n",
       "Garage Cars          0\n",
       "Garage Area          0\n",
       "Garage Qual         45\n",
       "Garage Cond         45\n",
       "Paved Drive          0\n",
       "Wood Deck SF         0\n",
       "Open Porch SF        0\n",
       "Enclosed Porch       0\n",
       "3Ssn Porch           0\n",
       "Screen Porch         0\n",
       "Pool Area            0\n",
       "Pool QC            875\n",
       "Fence              707\n",
       "Misc Feature       838\n",
       "Misc Val             0\n",
       "Mo Sold              0\n",
       "Yr Sold              0\n",
       "Sale Type            0\n",
       "dtype: int64"
      ]
     },
     "execution_count": 9,
     "metadata": {},
     "output_type": "execute_result"
    }
   ],
   "source": [
    "#check for nulls\n",
    "test.isnull().sum()"
   ]
  },
  {
   "cell_type": "markdown",
   "metadata": {},
   "source": [
    "## Data Cleaning \n",
    "\n",
    "Filling the null values with the median of the column.\n",
    "Median is suitable for Continous data with outliers"
   ]
  },
  {
   "cell_type": "code",
   "execution_count": 10,
   "metadata": {},
   "outputs": [],
   "source": [
    "test.fillna((test[['Lot Frontage','Mas Vnr Area','BsmtFin SF 1','BsmtFin SF 2','Bsmt Unf SF','Total Bsmt SF',\n",
    "                   'Bsmt Full Bath','Garage Yr Blt','Bsmt Half Bath','Garage Cars','Garage Area' ]].median()), inplace=True)"
   ]
  },
  {
   "cell_type": "code",
   "execution_count": 12,
   "metadata": {},
   "outputs": [],
   "source": [
    "cols = ['Alley','Mas Vnr Type','Bsmt Qual','Bsmt Cond','Bsmt Exposure','BsmtFin Type 1','BsmtFin Type 2','Fireplace Qu',\n",
    "    'Garage Type','Garage Finish','Garage Qual','Garage Cond','Pool QC','Fence','Misc Feature','Electrical']\n",
    "test[cols] = test[cols].fillna(0)"
   ]
  },
  {
   "cell_type": "code",
   "execution_count": 13,
   "metadata": {},
   "outputs": [
    {
     "data": {
      "text/plain": [
       "0"
      ]
     },
     "execution_count": 13,
     "metadata": {},
     "output_type": "execute_result"
    }
   ],
   "source": [
    "test.isnull().sum().sum()"
   ]
  },
  {
   "cell_type": "code",
   "execution_count": 14,
   "metadata": {},
   "outputs": [
    {
     "data": {
      "text/plain": [
       "Id                   int64\n",
       "PID                  int64\n",
       "MS SubClass          int64\n",
       "MS Zoning           object\n",
       "Lot Frontage       float64\n",
       "Lot Area             int64\n",
       "Street              object\n",
       "Alley               object\n",
       "Lot Shape           object\n",
       "Land Contour        object\n",
       "Utilities           object\n",
       "Lot Config          object\n",
       "Land Slope          object\n",
       "Neighborhood        object\n",
       "Condition 1         object\n",
       "Condition 2         object\n",
       "Bldg Type           object\n",
       "House Style         object\n",
       "Overall Qual         int64\n",
       "Overall Cond         int64\n",
       "Year Built           int64\n",
       "Year Remod/Add       int64\n",
       "Roof Style          object\n",
       "Roof Matl           object\n",
       "Exterior 1st        object\n",
       "Exterior 2nd        object\n",
       "Mas Vnr Type        object\n",
       "Mas Vnr Area       float64\n",
       "Exter Qual          object\n",
       "Exter Cond          object\n",
       "Foundation          object\n",
       "Bsmt Qual           object\n",
       "Bsmt Cond           object\n",
       "Bsmt Exposure       object\n",
       "BsmtFin Type 1      object\n",
       "BsmtFin SF 1         int64\n",
       "BsmtFin Type 2      object\n",
       "BsmtFin SF 2         int64\n",
       "Bsmt Unf SF          int64\n",
       "Total Bsmt SF        int64\n",
       "Heating             object\n",
       "Heating QC          object\n",
       "Central Air         object\n",
       "Electrical          object\n",
       "1st Flr SF           int64\n",
       "2nd Flr SF           int64\n",
       "Low Qual Fin SF      int64\n",
       "Gr Liv Area          int64\n",
       "Bsmt Full Bath       int64\n",
       "Bsmt Half Bath       int64\n",
       "Full Bath            int64\n",
       "Half Bath            int64\n",
       "Bedroom AbvGr        int64\n",
       "Kitchen AbvGr        int64\n",
       "Kitchen Qual        object\n",
       "TotRms AbvGrd        int64\n",
       "Functional          object\n",
       "Fireplaces           int64\n",
       "Fireplace Qu        object\n",
       "Garage Type         object\n",
       "Garage Yr Blt      float64\n",
       "Garage Finish       object\n",
       "Garage Cars          int64\n",
       "Garage Area          int64\n",
       "Garage Qual         object\n",
       "Garage Cond         object\n",
       "Paved Drive         object\n",
       "Wood Deck SF         int64\n",
       "Open Porch SF        int64\n",
       "Enclosed Porch       int64\n",
       "3Ssn Porch           int64\n",
       "Screen Porch         int64\n",
       "Pool Area            int64\n",
       "Pool QC             object\n",
       "Fence               object\n",
       "Misc Feature        object\n",
       "Misc Val             int64\n",
       "Mo Sold              int64\n",
       "Yr Sold              int64\n",
       "Sale Type           object\n",
       "dtype: object"
      ]
     },
     "execution_count": 14,
     "metadata": {},
     "output_type": "execute_result"
    }
   ],
   "source": [
    "test.dtypes"
   ]
  },
  {
   "cell_type": "markdown",
   "metadata": {},
   "source": [
    "## Dummies\n",
    "\n",
    "When we dummy a column, we're converting a categorical column into a one-hot encoded matrix. `pandas` allows us to do this with the `pd.get_dummies()` method."
   ]
  },
  {
   "cell_type": "code",
   "execution_count": 15,
   "metadata": {},
   "outputs": [],
   "source": [
    "# created dummies for the nominal data type\n",
    "test = pd.get_dummies(test, columns = ['MS SubClass','MS Zoning','Street','Alley',\n",
    "        'Land Contour','Lot Config','Neighborhood','Condition 1','Condition 2',\n",
    "        'Bldg Type','House Style','Roof Style','Roof Matl','Exterior 1st','Exterior 2nd','Mas Vnr Type',\n",
    "        'Foundation','Heating','Central Air','Garage Type','Misc Feature','Sale Type'], \n",
    "        prefix = ['MS SubClass','MS Zoning','Street','Alley',\n",
    "        'Land Contour','Lot Config','Neighborhood','Condition 1','Condition 2',\n",
    "        'Bldg Type','House Style','Roof Style','Roof Matl','Exterior 1st','Exterior 2nd','Mas Vnr Type',\n",
    "        'Foundation','Heating','Central Air','Garage Type','Misc Feature','Sale Type'],drop_first = True)"
   ]
  },
  {
   "cell_type": "markdown",
   "metadata": {},
   "source": [
    "## Mapping and Dictionary\n",
    "\n",
    "Here the columns are  Ordinal. Grouped them in the dictionary using mapping and Dictionary"
   ]
  },
  {
   "cell_type": "markdown",
   "metadata": {},
   "source": [
    "###  Lot Shape"
   ]
  },
  {
   "cell_type": "code",
   "execution_count": 16,
   "metadata": {},
   "outputs": [
    {
     "data": {
      "text/plain": [
       "Reg    564\n",
       "IR1    287\n",
       "IR2     21\n",
       "IR3      7\n",
       "Name: Lot Shape, dtype: int64"
      ]
     },
     "execution_count": 16,
     "metadata": {},
     "output_type": "execute_result"
    }
   ],
   "source": [
    "test['Lot Shape'].value_counts()"
   ]
  },
  {
   "cell_type": "code",
   "execution_count": 17,
   "metadata": {},
   "outputs": [],
   "source": [
    "#mapped using dictionary\n",
    "test['Lot Shape'] = test['Lot Shape'].map({'Reg': 4, 'IR1': 3, 'IR2' : 2, 'IR3' : 1})"
   ]
  },
  {
   "cell_type": "markdown",
   "metadata": {},
   "source": [
    "### Utilities"
   ]
  },
  {
   "cell_type": "code",
   "execution_count": 18,
   "metadata": {},
   "outputs": [
    {
     "data": {
      "text/plain": [
       "AllPub    878\n",
       "NoSewr      1\n",
       "Name: Utilities, dtype: int64"
      ]
     },
     "execution_count": 18,
     "metadata": {},
     "output_type": "execute_result"
    }
   ],
   "source": [
    "test['Utilities'].value_counts()"
   ]
  },
  {
   "cell_type": "code",
   "execution_count": 19,
   "metadata": {},
   "outputs": [],
   "source": [
    "#mapped using dictionary\n",
    "test['Utilities'] = test['Utilities'].map({'AllPub': 3, 'NoSeWa': 2, 'NoSewr' : 1})"
   ]
  },
  {
   "cell_type": "markdown",
   "metadata": {},
   "source": [
    "### Land Slope"
   ]
  },
  {
   "cell_type": "code",
   "execution_count": 20,
   "metadata": {},
   "outputs": [
    {
     "data": {
      "text/plain": [
       "Gtl    836\n",
       "Mod     37\n",
       "Sev      6\n",
       "Name: Land Slope, dtype: int64"
      ]
     },
     "execution_count": 20,
     "metadata": {},
     "output_type": "execute_result"
    }
   ],
   "source": [
    "test['Land Slope'].value_counts()"
   ]
  },
  {
   "cell_type": "code",
   "execution_count": 21,
   "metadata": {},
   "outputs": [],
   "source": [
    "#mapped using dictionary\n",
    "test['Land Slope'] =test['Land Slope'].map({'Gtl': 3, 'Mod': 2, 'Sev' : 1})"
   ]
  },
  {
   "cell_type": "markdown",
   "metadata": {},
   "source": [
    "### External Quality"
   ]
  },
  {
   "cell_type": "code",
   "execution_count": 22,
   "metadata": {},
   "outputs": [
    {
     "data": {
      "text/plain": [
       "TA    552\n",
       "Gd    292\n",
       "Ex     26\n",
       "Fa      9\n",
       "Name: Exter Qual, dtype: int64"
      ]
     },
     "execution_count": 22,
     "metadata": {},
     "output_type": "execute_result"
    }
   ],
   "source": [
    "test['Exter Qual'].value_counts()"
   ]
  },
  {
   "cell_type": "code",
   "execution_count": 23,
   "metadata": {},
   "outputs": [],
   "source": [
    "test['Exter Qual'] = test['Exter Qual'].map({'Ex': 4, 'Gd': 3, 'TA':2, 'Fa': 1})"
   ]
  },
  {
   "cell_type": "markdown",
   "metadata": {},
   "source": [
    "### External Condition"
   ]
  },
  {
   "cell_type": "code",
   "execution_count": 24,
   "metadata": {},
   "outputs": [
    {
     "data": {
      "text/plain": [
       "TA    771\n",
       "Gd     84\n",
       "Fa     18\n",
       "Ex      5\n",
       "Po      1\n",
       "Name: Exter Cond, dtype: int64"
      ]
     },
     "execution_count": 24,
     "metadata": {},
     "output_type": "execute_result"
    }
   ],
   "source": [
    "test['Exter Cond'].value_counts()"
   ]
  },
  {
   "cell_type": "code",
   "execution_count": 25,
   "metadata": {},
   "outputs": [],
   "source": [
    "test['Exter Cond'] = test['Exter Cond'].map({'Ex': 5, 'Gd': 4, 'TA':3, 'Fa': 2,'Po':1})"
   ]
  },
  {
   "cell_type": "markdown",
   "metadata": {},
   "source": [
    "### Basement Quality"
   ]
  },
  {
   "cell_type": "code",
   "execution_count": 27,
   "metadata": {},
   "outputs": [
    {
     "data": {
      "text/plain": [
       "TA    396\n",
       "Gd    355\n",
       "Ex     74\n",
       "Fa     28\n",
       "0      25\n",
       "Po      1\n",
       "Name: Bsmt Qual, dtype: int64"
      ]
     },
     "execution_count": 27,
     "metadata": {},
     "output_type": "execute_result"
    }
   ],
   "source": [
    "test['Bsmt Qual'].value_counts()"
   ]
  },
  {
   "cell_type": "code",
   "execution_count": 28,
   "metadata": {},
   "outputs": [],
   "source": [
    "test['Bsmt Qual'] = test['Bsmt Qual'].map({'Ex': 6, 'Gd': 5, 'TA':4, 'Fa': 3,'Po':2, 0:0})"
   ]
  },
  {
   "cell_type": "markdown",
   "metadata": {},
   "source": [
    "### Basement Condition"
   ]
  },
  {
   "cell_type": "code",
   "execution_count": 29,
   "metadata": {},
   "outputs": [
    {
     "data": {
      "text/plain": [
       "TA    782\n",
       "Fa     39\n",
       "Gd     33\n",
       "0      25\n",
       "Name: Bsmt Cond, dtype: int64"
      ]
     },
     "execution_count": 29,
     "metadata": {},
     "output_type": "execute_result"
    }
   ],
   "source": [
    "test['Bsmt Cond'].value_counts()"
   ]
  },
  {
   "cell_type": "code",
   "execution_count": 30,
   "metadata": {},
   "outputs": [],
   "source": [
    "test['Bsmt Cond'] = test['Bsmt Cond'].map({'Gd': 3, 'TA':2, 'Fa': 1, 0 : 0})"
   ]
  },
  {
   "cell_type": "markdown",
   "metadata": {},
   "source": [
    "### Basement Exposure"
   ]
  },
  {
   "cell_type": "code",
   "execution_count": 31,
   "metadata": {},
   "outputs": [
    {
     "data": {
      "text/plain": [
       "No    567\n",
       "Av    130\n",
       "Gd     81\n",
       "Mn     76\n",
       "0      25\n",
       "Name: Bsmt Exposure, dtype: int64"
      ]
     },
     "execution_count": 31,
     "metadata": {},
     "output_type": "execute_result"
    }
   ],
   "source": [
    "test['Bsmt Exposure'].value_counts()"
   ]
  },
  {
   "cell_type": "code",
   "execution_count": 32,
   "metadata": {},
   "outputs": [],
   "source": [
    "test['Bsmt Exposure'] =test['Bsmt Exposure'].map({'Gd': 4, 'Av': 3, 'Mn':2, 'No': 1, 0 : 0})"
   ]
  },
  {
   "cell_type": "markdown",
   "metadata": {},
   "source": [
    "### BasementFin Type 1"
   ]
  },
  {
   "cell_type": "code",
   "execution_count": 33,
   "metadata": {},
   "outputs": [
    {
     "data": {
      "text/plain": [
       "Unf    248\n",
       "GLQ    244\n",
       "ALQ    136\n",
       "Rec    105\n",
       "BLQ     69\n",
       "LwQ     52\n",
       "0       25\n",
       "Name: BsmtFin Type 1, dtype: int64"
      ]
     },
     "execution_count": 33,
     "metadata": {},
     "output_type": "execute_result"
    }
   ],
   "source": [
    "test['BsmtFin Type 1'].value_counts()"
   ]
  },
  {
   "cell_type": "code",
   "execution_count": 34,
   "metadata": {},
   "outputs": [],
   "source": [
    "test['BsmtFin Type 1'] = test['BsmtFin Type 1'].map({'GLQ': 6, 'ALQ': 5, 'BLQ': 4, 'Rec': 3, 'LwQ':2, 'Unf': 1, 0 : 0})"
   ]
  },
  {
   "cell_type": "markdown",
   "metadata": {},
   "source": [
    "### BasementFin Type 2"
   ]
  },
  {
   "cell_type": "code",
   "execution_count": 35,
   "metadata": {},
   "outputs": [
    {
     "data": {
      "text/plain": [
       "Unf    750\n",
       "LwQ     29\n",
       "Rec     26\n",
       "0       25\n",
       "BLQ     20\n",
       "ALQ     18\n",
       "GLQ     11\n",
       "Name: BsmtFin Type 2, dtype: int64"
      ]
     },
     "execution_count": 35,
     "metadata": {},
     "output_type": "execute_result"
    }
   ],
   "source": [
    "test['BsmtFin Type 2'].value_counts()"
   ]
  },
  {
   "cell_type": "code",
   "execution_count": 36,
   "metadata": {},
   "outputs": [],
   "source": [
    "test['BsmtFin Type 2'] = test['BsmtFin Type 2'].map({'GLQ': 6, 'ALQ': 5, 'BLQ': 4, 'Rec': 3, 'LwQ':2, 'Unf':1, 0 : 0})"
   ]
  },
  {
   "cell_type": "markdown",
   "metadata": {},
   "source": [
    "### HeatingQC"
   ]
  },
  {
   "cell_type": "code",
   "execution_count": 37,
   "metadata": {},
   "outputs": [
    {
     "data": {
      "text/plain": [
       "Ex    430\n",
       "TA    267\n",
       "Gd    157\n",
       "Fa     25\n",
       "Name: Heating QC, dtype: int64"
      ]
     },
     "execution_count": 37,
     "metadata": {},
     "output_type": "execute_result"
    }
   ],
   "source": [
    "test['Heating QC'].value_counts()"
   ]
  },
  {
   "cell_type": "code",
   "execution_count": 38,
   "metadata": {},
   "outputs": [],
   "source": [
    "test['Heating QC'] = test['Heating QC'].map({'Ex': 4, 'Gd': 3, 'TA':2, 'Fa': 1})"
   ]
  },
  {
   "cell_type": "markdown",
   "metadata": {},
   "source": [
    "### Electrical"
   ]
  },
  {
   "cell_type": "code",
   "execution_count": 39,
   "metadata": {},
   "outputs": [
    {
     "data": {
      "text/plain": [
       "SBrkr    814\n",
       "FuseA     48\n",
       "FuseF     15\n",
       "FuseP      1\n",
       "0          1\n",
       "Name: Electrical, dtype: int64"
      ]
     },
     "execution_count": 39,
     "metadata": {},
     "output_type": "execute_result"
    }
   ],
   "source": [
    "test['Electrical'].value_counts()"
   ]
  },
  {
   "cell_type": "code",
   "execution_count": 40,
   "metadata": {},
   "outputs": [],
   "source": [
    "test['Electrical'] = test['Electrical'].map({'SBrkr': 4, 'FuseA': 3, 'FuseF':2, 'FuseP':1, 0 : 0})"
   ]
  },
  {
   "cell_type": "code",
   "execution_count": 41,
   "metadata": {},
   "outputs": [
    {
     "data": {
      "text/plain": [
       "0"
      ]
     },
     "execution_count": 41,
     "metadata": {},
     "output_type": "execute_result"
    }
   ],
   "source": [
    "test['Electrical'].isnull().sum()"
   ]
  },
  {
   "cell_type": "markdown",
   "metadata": {},
   "source": [
    "### KitchenQual"
   ]
  },
  {
   "cell_type": "code",
   "execution_count": 42,
   "metadata": {},
   "outputs": [
    {
     "data": {
      "text/plain": [
       "0"
      ]
     },
     "execution_count": 42,
     "metadata": {},
     "output_type": "execute_result"
    }
   ],
   "source": [
    "test['Kitchen Qual'].isnull().sum()"
   ]
  },
  {
   "cell_type": "code",
   "execution_count": 43,
   "metadata": {},
   "outputs": [
    {
     "data": {
      "text/plain": [
       "TA    447\n",
       "Gd    354\n",
       "Ex     54\n",
       "Fa     23\n",
       "Po      1\n",
       "Name: Kitchen Qual, dtype: int64"
      ]
     },
     "execution_count": 43,
     "metadata": {},
     "output_type": "execute_result"
    }
   ],
   "source": [
    "test[\"Kitchen Qual\"].value_counts()"
   ]
  },
  {
   "cell_type": "code",
   "execution_count": 44,
   "metadata": {},
   "outputs": [],
   "source": [
    "test['Kitchen Qual'] = test['Kitchen Qual'].map({'Ex': 5, 'Gd': 4, 'TA':3, 'Fa': 2, 'Po' : 1})"
   ]
  },
  {
   "cell_type": "code",
   "execution_count": 45,
   "metadata": {},
   "outputs": [
    {
     "data": {
      "text/plain": [
       "0"
      ]
     },
     "execution_count": 45,
     "metadata": {},
     "output_type": "execute_result"
    }
   ],
   "source": [
    "test['Kitchen Qual'].isnull().sum()"
   ]
  },
  {
   "cell_type": "markdown",
   "metadata": {},
   "source": [
    "### Functional"
   ]
  },
  {
   "cell_type": "code",
   "execution_count": 46,
   "metadata": {},
   "outputs": [
    {
     "data": {
      "text/plain": [
       "Typ     813\n",
       "Min2     28\n",
       "Min1     23\n",
       "Maj1      7\n",
       "Mod       6\n",
       "Maj2      2\n",
       "Name: Functional, dtype: int64"
      ]
     },
     "execution_count": 46,
     "metadata": {},
     "output_type": "execute_result"
    }
   ],
   "source": [
    "test['Functional'].value_counts()"
   ]
  },
  {
   "cell_type": "code",
   "execution_count": 47,
   "metadata": {},
   "outputs": [],
   "source": [
    "test['Functional'] = test['Functional'].map({'Typ': 6, 'Min1': 5, 'Min2':4, 'Mod': 3,'Maj1':2, 'Maj2':1})"
   ]
  },
  {
   "cell_type": "markdown",
   "metadata": {},
   "source": [
    "### Fireplace Qu"
   ]
  },
  {
   "cell_type": "code",
   "execution_count": 48,
   "metadata": {},
   "outputs": [
    {
     "data": {
      "text/plain": [
       "0     422\n",
       "Gd    221\n",
       "TA    193\n",
       "Fa     16\n",
       "Po     15\n",
       "Ex     12\n",
       "Name: Fireplace Qu, dtype: int64"
      ]
     },
     "execution_count": 48,
     "metadata": {},
     "output_type": "execute_result"
    }
   ],
   "source": [
    "test['Fireplace Qu'].value_counts()"
   ]
  },
  {
   "cell_type": "code",
   "execution_count": 49,
   "metadata": {},
   "outputs": [],
   "source": [
    "test['Fireplace Qu'] = test['Fireplace Qu'].map({'Ex': 5, 'Gd': 4, 'TA':3, 'Fa': 2,'Po':1, 0 : 0})"
   ]
  },
  {
   "cell_type": "markdown",
   "metadata": {},
   "source": [
    "### Garage Finish"
   ]
  },
  {
   "cell_type": "code",
   "execution_count": 50,
   "metadata": {},
   "outputs": [
    {
     "data": {
      "text/plain": [
       "Unf    382\n",
       "RFn    233\n",
       "Fin    219\n",
       "0       45\n",
       "Name: Garage Finish, dtype: int64"
      ]
     },
     "execution_count": 50,
     "metadata": {},
     "output_type": "execute_result"
    }
   ],
   "source": [
    "test['Garage Finish'].value_counts()"
   ]
  },
  {
   "cell_type": "code",
   "execution_count": 51,
   "metadata": {},
   "outputs": [],
   "source": [
    "test['Garage Finish'] =test['Garage Finish'].map({'Fin': 3, 'RFn': 2, 'Unf':1, 0 : 0})"
   ]
  },
  {
   "cell_type": "markdown",
   "metadata": {},
   "source": [
    "### Garage Quality"
   ]
  },
  {
   "cell_type": "code",
   "execution_count": 52,
   "metadata": {},
   "outputs": [
    {
     "data": {
      "text/plain": [
       "TA    783\n",
       "0      45\n",
       "Fa     42\n",
       "Gd      6\n",
       "Po      3\n",
       "Name: Garage Qual, dtype: int64"
      ]
     },
     "execution_count": 52,
     "metadata": {},
     "output_type": "execute_result"
    }
   ],
   "source": [
    "test['Garage Qual'].value_counts()"
   ]
  },
  {
   "cell_type": "code",
   "execution_count": 53,
   "metadata": {},
   "outputs": [],
   "source": [
    "test['Garage Qual'] = test['Garage Qual'].map({'Gd': 4, 'TA':3, 'Fa': 2,'Po':1, 0 : 0})"
   ]
  },
  {
   "cell_type": "markdown",
   "metadata": {},
   "source": [
    "### Garage Cond"
   ]
  },
  {
   "cell_type": "code",
   "execution_count": 54,
   "metadata": {},
   "outputs": [
    {
     "data": {
      "text/plain": [
       "TA    797\n",
       "0      45\n",
       "Fa     27\n",
       "Po      6\n",
       "Gd      3\n",
       "Ex      1\n",
       "Name: Garage Cond, dtype: int64"
      ]
     },
     "execution_count": 54,
     "metadata": {},
     "output_type": "execute_result"
    }
   ],
   "source": [
    "test['Garage Cond'].value_counts()"
   ]
  },
  {
   "cell_type": "code",
   "execution_count": 55,
   "metadata": {},
   "outputs": [],
   "source": [
    "test['Garage Cond'] = test['Garage Cond'].map({'Ex': 5, 'Gd': 4, 'TA':3, 'Fa': 2,'Po':1, 0 : 0})"
   ]
  },
  {
   "cell_type": "markdown",
   "metadata": {},
   "source": [
    "### Paved Drive"
   ]
  },
  {
   "cell_type": "code",
   "execution_count": 56,
   "metadata": {},
   "outputs": [
    {
     "data": {
      "text/plain": [
       "Y    791\n",
       "N     65\n",
       "P     23\n",
       "Name: Paved Drive, dtype: int64"
      ]
     },
     "execution_count": 56,
     "metadata": {},
     "output_type": "execute_result"
    }
   ],
   "source": [
    "test['Paved Drive'].value_counts()"
   ]
  },
  {
   "cell_type": "code",
   "execution_count": 57,
   "metadata": {},
   "outputs": [],
   "source": [
    "test['Paved Drive'] = test['Paved Drive'].map({'Y': 3,'P':2, 'N': 1})"
   ]
  },
  {
   "cell_type": "markdown",
   "metadata": {},
   "source": [
    "### Pool QC"
   ]
  },
  {
   "cell_type": "code",
   "execution_count": 58,
   "metadata": {},
   "outputs": [
    {
     "data": {
      "text/plain": [
       "0     875\n",
       "Ex      3\n",
       "TA      1\n",
       "Name: Pool QC, dtype: int64"
      ]
     },
     "execution_count": 58,
     "metadata": {},
     "output_type": "execute_result"
    }
   ],
   "source": [
    "test['Pool QC'].value_counts()"
   ]
  },
  {
   "cell_type": "code",
   "execution_count": 59,
   "metadata": {},
   "outputs": [],
   "source": [
    "test['Pool QC'] = test['Pool QC'].map({'Ex': 2, 'TA':1, 0 : 0})"
   ]
  },
  {
   "cell_type": "markdown",
   "metadata": {},
   "source": [
    "### Fence"
   ]
  },
  {
   "cell_type": "code",
   "execution_count": 60,
   "metadata": {},
   "outputs": [
    {
     "data": {
      "text/plain": [
       "0        707\n",
       "MnPrv    103\n",
       "GdPrv     35\n",
       "GdWo      32\n",
       "MnWw       2\n",
       "Name: Fence, dtype: int64"
      ]
     },
     "execution_count": 60,
     "metadata": {},
     "output_type": "execute_result"
    }
   ],
   "source": [
    "test['Fence'].value_counts()"
   ]
  },
  {
   "cell_type": "code",
   "execution_count": 61,
   "metadata": {},
   "outputs": [],
   "source": [
    "test['Fence'] = test['Fence'].map({'GdPrv': 4, 'MnPrv':3, 'GdWo': 2,'MnWw':1, 0 : 0})"
   ]
  },
  {
   "cell_type": "code",
   "execution_count": 62,
   "metadata": {},
   "outputs": [
    {
     "data": {
      "text/plain": [
       "(879, 203)"
      ]
     },
     "execution_count": 62,
     "metadata": {},
     "output_type": "execute_result"
    }
   ],
   "source": [
    "test.shape"
   ]
  },
  {
   "cell_type": "code",
   "execution_count": 63,
   "metadata": {},
   "outputs": [
    {
     "data": {
      "text/plain": [
       "0"
      ]
     },
     "execution_count": 63,
     "metadata": {},
     "output_type": "execute_result"
    }
   ],
   "source": [
    "test.isnull().sum().sum()"
   ]
  },
  {
   "cell_type": "code",
   "execution_count": 64,
   "metadata": {},
   "outputs": [
    {
     "data": {
      "text/plain": [
       "Id                        int64\n",
       "PID                       int64\n",
       "Lot Frontage            float64\n",
       "Lot Area                  int64\n",
       "Lot Shape                 int64\n",
       "Utilities                 int64\n",
       "Land Slope                int64\n",
       "Overall Qual              int64\n",
       "Overall Cond              int64\n",
       "Year Built                int64\n",
       "Year Remod/Add            int64\n",
       "Mas Vnr Area            float64\n",
       "Exter Qual                int64\n",
       "Exter Cond                int64\n",
       "Bsmt Qual                 int64\n",
       "Bsmt Cond                 int64\n",
       "Bsmt Exposure             int64\n",
       "BsmtFin Type 1            int64\n",
       "BsmtFin SF 1              int64\n",
       "BsmtFin Type 2            int64\n",
       "BsmtFin SF 2              int64\n",
       "Bsmt Unf SF               int64\n",
       "Total Bsmt SF             int64\n",
       "Heating QC                int64\n",
       "Electrical                int64\n",
       "1st Flr SF                int64\n",
       "2nd Flr SF                int64\n",
       "Low Qual Fin SF           int64\n",
       "Gr Liv Area               int64\n",
       "Bsmt Full Bath            int64\n",
       "Bsmt Half Bath            int64\n",
       "Full Bath                 int64\n",
       "Half Bath                 int64\n",
       "Bedroom AbvGr             int64\n",
       "Kitchen AbvGr             int64\n",
       "Kitchen Qual              int64\n",
       "TotRms AbvGrd             int64\n",
       "Functional                int64\n",
       "Fireplaces                int64\n",
       "Fireplace Qu              int64\n",
       "Garage Yr Blt           float64\n",
       "Garage Finish             int64\n",
       "Garage Cars               int64\n",
       "Garage Area               int64\n",
       "Garage Qual               int64\n",
       "Garage Cond               int64\n",
       "Paved Drive               int64\n",
       "Wood Deck SF              int64\n",
       "Open Porch SF             int64\n",
       "Enclosed Porch            int64\n",
       "3Ssn Porch                int64\n",
       "Screen Porch              int64\n",
       "Pool Area                 int64\n",
       "Pool QC                   int64\n",
       "Fence                     int64\n",
       "Misc Val                  int64\n",
       "Mo Sold                   int64\n",
       "Yr Sold                   int64\n",
       "MS SubClass_30            uint8\n",
       "MS SubClass_40            uint8\n",
       "MS SubClass_45            uint8\n",
       "MS SubClass_50            uint8\n",
       "MS SubClass_60            uint8\n",
       "MS SubClass_70            uint8\n",
       "MS SubClass_75            uint8\n",
       "MS SubClass_80            uint8\n",
       "MS SubClass_85            uint8\n",
       "MS SubClass_90            uint8\n",
       "MS SubClass_120           uint8\n",
       "MS SubClass_160           uint8\n",
       "MS SubClass_180           uint8\n",
       "MS SubClass_190           uint8\n",
       "MS Zoning_FV              uint8\n",
       "MS Zoning_I (all)         uint8\n",
       "MS Zoning_RH              uint8\n",
       "MS Zoning_RL              uint8\n",
       "MS Zoning_RM              uint8\n",
       "Street_Pave               uint8\n",
       "Alley_Grvl                uint8\n",
       "Alley_Pave                uint8\n",
       "Land Contour_HLS          uint8\n",
       "Land Contour_Low          uint8\n",
       "Land Contour_Lvl          uint8\n",
       "Lot Config_CulDSac        uint8\n",
       "Lot Config_FR2            uint8\n",
       "Lot Config_FR3            uint8\n",
       "Lot Config_Inside         uint8\n",
       "Neighborhood_Blueste      uint8\n",
       "Neighborhood_BrDale       uint8\n",
       "Neighborhood_BrkSide      uint8\n",
       "Neighborhood_ClearCr      uint8\n",
       "Neighborhood_CollgCr      uint8\n",
       "Neighborhood_Crawfor      uint8\n",
       "Neighborhood_Edwards      uint8\n",
       "Neighborhood_Gilbert      uint8\n",
       "Neighborhood_Greens       uint8\n",
       "Neighborhood_IDOTRR       uint8\n",
       "Neighborhood_MeadowV      uint8\n",
       "Neighborhood_Mitchel      uint8\n",
       "Neighborhood_NAmes        uint8\n",
       "Neighborhood_NPkVill      uint8\n",
       "Neighborhood_NWAmes       uint8\n",
       "Neighborhood_NoRidge      uint8\n",
       "Neighborhood_NridgHt      uint8\n",
       "Neighborhood_OldTown      uint8\n",
       "Neighborhood_SWISU        uint8\n",
       "Neighborhood_Sawyer       uint8\n",
       "Neighborhood_SawyerW      uint8\n",
       "Neighborhood_Somerst      uint8\n",
       "Neighborhood_StoneBr      uint8\n",
       "Neighborhood_Timber       uint8\n",
       "Neighborhood_Veenker      uint8\n",
       "Condition 1_Feedr         uint8\n",
       "Condition 1_Norm          uint8\n",
       "Condition 1_PosA          uint8\n",
       "Condition 1_PosN          uint8\n",
       "Condition 1_RRAe          uint8\n",
       "Condition 1_RRAn          uint8\n",
       "Condition 1_RRNe          uint8\n",
       "Condition 1_RRNn          uint8\n",
       "Condition 2_Norm          uint8\n",
       "Condition 2_PosA          uint8\n",
       "Condition 2_PosN          uint8\n",
       "Bldg Type_2fmCon          uint8\n",
       "Bldg Type_Duplex          uint8\n",
       "Bldg Type_Twnhs           uint8\n",
       "Bldg Type_TwnhsE          uint8\n",
       "House Style_1.5Unf        uint8\n",
       "House Style_1Story        uint8\n",
       "House Style_2.5Fin        uint8\n",
       "House Style_2.5Unf        uint8\n",
       "House Style_2Story        uint8\n",
       "House Style_SFoyer        uint8\n",
       "House Style_SLvl          uint8\n",
       "Roof Style_Gable          uint8\n",
       "Roof Style_Gambrel        uint8\n",
       "Roof Style_Hip            uint8\n",
       "Roof Style_Mansard        uint8\n",
       "Roof Style_Shed           uint8\n",
       "Roof Matl_Metal           uint8\n",
       "Roof Matl_Roll            uint8\n",
       "Roof Matl_Tar&Grv         uint8\n",
       "Roof Matl_WdShake         uint8\n",
       "Roof Matl_WdShngl         uint8\n",
       "Exterior 1st_AsphShn      uint8\n",
       "Exterior 1st_BrkComm      uint8\n",
       "Exterior 1st_BrkFace      uint8\n",
       "Exterior 1st_CemntBd      uint8\n",
       "Exterior 1st_HdBoard      uint8\n",
       "Exterior 1st_MetalSd      uint8\n",
       "Exterior 1st_Plywood      uint8\n",
       "Exterior 1st_PreCast      uint8\n",
       "Exterior 1st_Stucco       uint8\n",
       "Exterior 1st_VinylSd      uint8\n",
       "Exterior 1st_Wd Sdng      uint8\n",
       "Exterior 1st_WdShing      uint8\n",
       "Exterior 2nd_AsphShn      uint8\n",
       "Exterior 2nd_Brk Cmn      uint8\n",
       "Exterior 2nd_BrkFace      uint8\n",
       "Exterior 2nd_CBlock       uint8\n",
       "Exterior 2nd_CmentBd      uint8\n",
       "Exterior 2nd_HdBoard      uint8\n",
       "Exterior 2nd_ImStucc      uint8\n",
       "Exterior 2nd_MetalSd      uint8\n",
       "Exterior 2nd_Other        uint8\n",
       "Exterior 2nd_Plywood      uint8\n",
       "Exterior 2nd_PreCast      uint8\n",
       "Exterior 2nd_Stucco       uint8\n",
       "Exterior 2nd_VinylSd      uint8\n",
       "Exterior 2nd_Wd Sdng      uint8\n",
       "Exterior 2nd_Wd Shng      uint8\n",
       "Mas Vnr Type_BrkCmn       uint8\n",
       "Mas Vnr Type_BrkFace      uint8\n",
       "Mas Vnr Type_CBlock       uint8\n",
       "Mas Vnr Type_None         uint8\n",
       "Mas Vnr Type_Stone        uint8\n",
       "Foundation_CBlock         uint8\n",
       "Foundation_PConc          uint8\n",
       "Foundation_Slab           uint8\n",
       "Foundation_Stone          uint8\n",
       "Foundation_Wood           uint8\n",
       "Heating_GasA              uint8\n",
       "Heating_GasW              uint8\n",
       "Heating_Grav              uint8\n",
       "Central Air_Y             uint8\n",
       "Garage Type_2Types        uint8\n",
       "Garage Type_Attchd        uint8\n",
       "Garage Type_Basment       uint8\n",
       "Garage Type_BuiltIn       uint8\n",
       "Garage Type_CarPort       uint8\n",
       "Garage Type_Detchd        uint8\n",
       "Misc Feature_Gar2         uint8\n",
       "Misc Feature_Othr         uint8\n",
       "Misc Feature_Shed         uint8\n",
       "Sale Type_CWD             uint8\n",
       "Sale Type_Con             uint8\n",
       "Sale Type_ConLD           uint8\n",
       "Sale Type_ConLI           uint8\n",
       "Sale Type_ConLw           uint8\n",
       "Sale Type_New             uint8\n",
       "Sale Type_Oth             uint8\n",
       "Sale Type_VWD             uint8\n",
       "Sale Type_WD              uint8\n",
       "dtype: object"
      ]
     },
     "execution_count": 64,
     "metadata": {},
     "output_type": "execute_result"
    }
   ],
   "source": [
    "test.dtypes"
   ]
  },
  {
   "cell_type": "code",
   "execution_count": 65,
   "metadata": {},
   "outputs": [],
   "source": [
    "test.to_csv(\"test_cleaned.csv\")"
   ]
  }
 ],
 "metadata": {
  "kernelspec": {
   "display_name": "Python 3",
   "language": "python",
   "name": "python3"
  },
  "language_info": {
   "codemirror_mode": {
    "name": "ipython",
    "version": 3
   },
   "file_extension": ".py",
   "mimetype": "text/x-python",
   "name": "python",
   "nbconvert_exporter": "python",
   "pygments_lexer": "ipython3",
   "version": "3.7.3"
  }
 },
 "nbformat": 4,
 "nbformat_minor": 2
}
